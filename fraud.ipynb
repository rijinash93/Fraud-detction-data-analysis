{
 "cells": [
  {
   "cell_type": "code",
   "execution_count": null,
   "id": "3ce40a9a",
   "metadata": {},
   "outputs": [],
   "source": [
    "\n",
    "!pip install pandas numpy matplotlib seaborn scikit-learn xgboost imbalanced-learn shap\n"
   ]
  }
 ],
 "metadata": {
  "language_info": {
   "name": "python"
  }
 },
 "nbformat": 4,
 "nbformat_minor": 5
}
